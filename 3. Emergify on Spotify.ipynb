{
 "cells": [
  {
   "cell_type": "code",
   "execution_count": 1,
   "id": "0cf7a3c5",
   "metadata": {},
   "outputs": [],
   "source": [
    "from  helpers import *\n",
    "import spotipy\n",
    "from spotipy import SpotifyClientCredentials, util\n",
    "import pandas as pd"
   ]
  },
  {
   "cell_type": "code",
   "execution_count": 2,
   "id": "3e401aab",
   "metadata": {},
   "outputs": [],
   "source": [
    "#Accesso all'account \n",
    "\n",
    "client_id='INSERIRE ID'\n",
    "client_secret='INSERIRE SECRET'\n",
    "redirect_uri='http://localhost:7777/callback'\n",
    "\n",
    "username = 'USERNAME'\n",
    "scope_playlist = 'playlist-modify-public'\n",
    "scope_user = 'user-library-modify'\n",
    "scope_playing = 'user-read-currently-playing'\n",
    "\n",
    "manager = SpotifyClientCredentials(client_id,client_secret)\n",
    "sp = spotipy.Spotify(client_credentials_manager=manager)\n",
    "\n",
    "token_actual = util.prompt_for_user_token(username,scope_playing,client_id,client_secret,redirect_uri) \n",
    "sp_actual = spotipy.Spotify(auth=token_actual)\n",
    "\n",
    "token_user= util.prompt_for_user_token(username,scope_user,client_id,client_secret,redirect_uri) \n",
    "sp_user = spotipy.Spotify(auth=token_user)\n",
    "\n",
    "token_playlist= util.prompt_for_user_token(username,scope_playlist,client_id,client_secret,redirect_uri) \n",
    "sp_playlist = spotipy.Spotify(auth=token_playlist)\n"
   ]
  },
  {
   "cell_type": "code",
   "execution_count": 3,
   "id": "b84c0b88",
   "metadata": {},
   "outputs": [],
   "source": [
    "cluster_0 = pd.read_csv(\"emergify.csv\")\n",
    "ids_0 = cluster_0['id'].tolist()"
   ]
  },
  {
   "cell_type": "code",
   "execution_count": 4,
   "id": "dc51272b",
   "metadata": {},
   "outputs": [
    {
     "data": {
      "text/plain": [
       "{'snapshot_id': 'MiwwMWY2ODM3MTVjZGUxYTJlYmRiODg4ZDZmZTI1Njk1M2M0Y2MyZDM5'}"
      ]
     },
     "execution_count": 4,
     "metadata": {},
     "output_type": "execute_result"
    }
   ],
   "source": [
    "canzoni = sp_playlist.user_playlist_create(username,\"Emergify\")\n",
    "sp_playlist.user_playlist_add_tracks(username,canzoni['uri'],ids_0)"
   ]
  }
 ],
 "metadata": {
  "kernelspec": {
   "display_name": "Python 3",
   "language": "python",
   "name": "python3"
  },
  "language_info": {
   "codemirror_mode": {
    "name": "ipython",
    "version": 3
   },
   "file_extension": ".py",
   "mimetype": "text/x-python",
   "name": "python",
   "nbconvert_exporter": "python",
   "pygments_lexer": "ipython3",
   "version": "3.7.10"
  }
 },
 "nbformat": 4,
 "nbformat_minor": 5
}
